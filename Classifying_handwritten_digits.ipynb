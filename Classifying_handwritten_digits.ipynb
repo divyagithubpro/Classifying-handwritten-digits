{
  "nbformat": 4,
  "nbformat_minor": 0,
  "metadata": {
    "colab": {
      "provenance": [],
      "authorship_tag": "ABX9TyPrACPTrj4I6bYVGhBaRY4c",
      "include_colab_link": true
    },
    "kernelspec": {
      "name": "python3",
      "display_name": "Python 3"
    },
    "language_info": {
      "name": "python"
    }
  },
  "cells": [
    {
      "cell_type": "markdown",
      "metadata": {
        "id": "view-in-github",
        "colab_type": "text"
      },
      "source": [
        "<a href=\"https://colab.research.google.com/github/divyagithubpro/Classifying-handwritten-digits/blob/main/Classifying_handwritten_digits.ipynb\" target=\"_parent\"><img src=\"https://colab.research.google.com/assets/colab-badge.svg\" alt=\"Open In Colab\"/></a>"
      ]
    },
    {
      "cell_type": "code",
      "source": [
        "!git clone https://github.com/divyagithubpro/Classifying-handwritten-digits.git"
      ],
      "metadata": {
        "id": "HwVBvyXu6ZYX",
        "colab": {
          "base_uri": "https://localhost:8080/"
        },
        "outputId": "7db43933-9031-499a-8210-e9541de94058"
      },
      "execution_count": 12,
      "outputs": [
        {
          "output_type": "stream",
          "name": "stdout",
          "text": [
            "Cloning into 'Classifying-handwritten-digits'...\n",
            "warning: You appear to have cloned an empty repository.\n"
          ]
        }
      ]
    },
    {
      "cell_type": "markdown",
      "source": [
        "Import Libraries and Load Dataset"
      ],
      "metadata": {
        "id": "aRRvukdt4xU0"
      }
    },
    {
      "cell_type": "code",
      "source": [
        "import numpy as np\n",
        "import matplotlib.pyplot as plt\n",
        "import tensorflow as tf\n",
        "\n",
        "# Load MNIST dataset using TensorFlow Keras API\n",
        "mnist = tf.keras.datasets.mnist\n",
        "(train_images, train_labels), (test_images, test_labels) = mnist.load_data()\n",
        "\n",
        "# Normalize the images to [0, 1] range\n",
        "train_images = train_images / 255.0\n",
        "test_images = test_images / 255.0\n",
        "\n",
        "# Flatten the images for consistency with your original code\n",
        "train_images = train_images.reshape(-1, 28 * 28)\n",
        "test_images = test_images.reshape(-1, 28 * 28)\n",
        "\n",
        "# Convert labels to numpy arrays (already done by keras)\n",
        "train_labels = np.asarray(train_labels, dtype=np.int32)\n",
        "test_labels = np.asarray(test_labels, dtype=np.int32)\n",
        "\n",
        "# Limit the data to a maximum number of examples\n",
        "max_examples = 10000\n",
        "train_images = train_images[:max_examples]\n",
        "train_labels = train_labels[:max_examples]\n"
      ],
      "metadata": {
        "id": "uF4nQ4zU41SY"
      },
      "execution_count": null,
      "outputs": []
    },
    {
      "cell_type": "markdown",
      "source": [
        "Display Dataset Images"
      ],
      "metadata": {
        "id": "CGhzGwCZ5Pby"
      }
    },
    {
      "cell_type": "code",
      "source": [
        "# Cell 2: Displaying dataset images\n",
        "\n",
        "# Display dataset using Matplotlib\n",
        "def display(i):\n",
        "    img = test_images[i]\n",
        "    plt.title('label : {}'.format(test_labels[i]))\n",
        "    plt.imshow(img.reshape((28, 28)))\n",
        "    plt.show()\n",
        "\n",
        "# Example: Display the first 2 image in the test set\n",
        "display(0)\n",
        "display(1)"
      ],
      "metadata": {
        "colab": {
          "base_uri": "https://localhost:8080/",
          "height": 887
        },
        "id": "1h8bX7vo5Vt-",
        "outputId": "88691f33-a313-4858-e6b5-451a96de8120"
      },
      "execution_count": null,
      "outputs": [
        {
          "output_type": "display_data",
          "data": {
            "text/plain": [
              "<Figure size 640x480 with 1 Axes>"
            ],
            "image/png": "[encoded data removed]"
          },
          "metadata": {}
        },
        {
          "output_type": "display_data",
          "data": {
            "text/plain": [
              "<Figure size 640x480 with 1 Axes>"
            ],
            "image/png": "[encoded data removed]"
          },
          "metadata": {}
        }
      ]
    },
    {
      "cell_type": "markdown",
      "source": [
        "Define Model and Train"
      ],
      "metadata": {
        "id": "j3EEZVUL5xGT"
      }
    },
    {
      "cell_type": "code",
      "source": [
        "# Cell 3: Define and train the model\n",
        "\n",
        "# Define a simple neural network model using Keras\n",
        "model = tf.keras.Sequential([\n",
        "    tf.keras.layers.Dense(128, activation='relu', input_shape=(28*28,)),\n",
        "    tf.keras.layers.Dense(10, activation='softmax')\n",
        "])\n",
        "\n",
        "# Compile the model\n",
        "model.compile(optimizer='adam',\n",
        "              loss='sparse_categorical_crossentropy',\n",
        "              metrics=['accuracy'])\n",
        "\n",
        "# Train the model\n",
        "print(\"Training model...\")\n",
        "model.fit(train_images, train_labels, epochs=10, batch_size=100)\n",
        "print(\"Training complete.\")\n"
      ],
      "metadata": {
        "colab": {
          "base_uri": "https://localhost:8080/"
        },
        "id": "PaGL3gcJ53oC",
        "outputId": "5dce269e-f4ce-4718-8676-88ba99531acc"
      },
      "execution_count": null,
      "outputs": [
        {
          "output_type": "stream",
          "name": "stdout",
          "text": [
            "Training model...\n",
            "Epoch 1/10\n",
            "100/100 [==============================] - 2s 7ms/step - loss: 0.7339 - accuracy: 0.8100\n",
            "Epoch 2/10\n",
            "100/100 [==============================] - 1s 6ms/step - loss: 0.2992 - accuracy: 0.9156\n",
            "Epoch 3/10\n",
            "100/100 [==============================] - 0s 4ms/step - loss: 0.2351 - accuracy: 0.9347\n",
            "Epoch 4/10\n",
            "100/100 [==============================] - 0s 4ms/step - loss: 0.1961 - accuracy: 0.9443\n",
            "Epoch 5/10\n",
            "100/100 [==============================] - 0s 4ms/step - loss: 0.1663 - accuracy: 0.9529\n",
            "Epoch 6/10\n",
            "100/100 [==============================] - 0s 5ms/step - loss: 0.1410 - accuracy: 0.9621\n",
            "Epoch 7/10\n",
            "100/100 [==============================] - 0s 4ms/step - loss: 0.1222 - accuracy: 0.9676\n",
            "Epoch 8/10\n",
            "100/100 [==============================] - 0s 4ms/step - loss: 0.1063 - accuracy: 0.9723\n",
            "Epoch 9/10\n",
            "100/100 [==============================] - 0s 4ms/step - loss: 0.0921 - accuracy: 0.9758\n",
            "Epoch 10/10\n",
            "100/100 [==============================] - 0s 4ms/step - loss: 0.0802 - accuracy: 0.9801\n",
            "Training complete.\n"
          ]
        }
      ]
    },
    {
      "cell_type": "code",
      "source": [],
      "metadata": {
        "id": "uTK9lfnWD1ri"
      },
      "execution_count": null,
      "outputs": []
    },
    {
      "cell_type": "markdown",
      "source": [
        "Evaluate Model"
      ],
      "metadata": {
        "id": "fdwjBvBg6FaZ"
      }
    },
    {
      "cell_type": "code",
      "source": [
        "# Cell 4: Evaluate model\n",
        "\n",
        "# Evaluate the model on the test set\n",
        "print(\"Evaluating model...\")\n",
        "test_loss, test_accuracy = model.evaluate(test_images, test_labels)\n",
        "print(f\"Test set accuracy: {test_accuracy:.3f}\")\n"
      ],
      "metadata": {
        "colab": {
          "base_uri": "https://localhost:8080/"
        },
        "id": "k9WWtck76IlL",
        "outputId": "e49faf27-e078-491b-e023-87bfd8f0e590"
      },
      "execution_count": null,
      "outputs": [
        {
          "output_type": "stream",
          "name": "stdout",
          "text": [
            "Evaluating model...\n",
            "313/313 [==============================] - 1s 2ms/step - loss: 0.1794 - accuracy: 0.9475\n",
            "Test set accuracy: 0.947\n"
          ]
        }
      ]
    },
    {
      "cell_type": "markdown",
      "source": [
        "Predict and Display Results\n"
      ],
      "metadata": {
        "id": "xFF3e6zM6SrM"
      }
    },
    {
      "cell_type": "code",
      "source": [
        "# Cell 5: Predict and display results\n",
        "\n",
        "# Find the index of the first '4' in the test labels\n",
        "index_of_4 = np.argmax(test_labels == 4)\n",
        "\n",
        "# Predict using the found index\n",
        "predictions = model.predict(np.array([test_images[index_of_4]]))\n",
        "predicted_label = np.argmax(predictions[0])\n",
        "\n",
        "print(\"Prediction: {}, Label: {}\".format(predicted_label, test_labels[index_of_4]))\n",
        "\n",
        "# Display the image if the prediction is correct\n",
        "if predicted_label == test_labels[index_of_4]:\n",
        "    display(index_of_4)\n"
      ],
      "metadata": {
        "colab": {
          "base_uri": "https://localhost:8080/",
          "height": 487
        },
        "id": "aOF3JzAb6WCi",
        "outputId": "cfe17bf8-4e29-4a42-9c5b-d4fadee52124"
      },
      "execution_count": null,
      "outputs": [
        {
          "output_type": "stream",
          "name": "stdout",
          "text": [
            "1/1 [==============================] - 0s 114ms/step\n",
            "Prediction: 4, Label: 4\n"
          ]
        },
        {
          "output_type": "display_data",
          "data": {
            "text/plain": [
              "<Figure size 640x480 with 1 Axes>"
            ],
            "image/png": "[encoded data removed]"
          },
          "metadata": {}
        }
      ]
    }
  ]
}